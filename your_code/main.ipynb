{
 "cells": [
  {
   "cell_type": "markdown",
   "metadata": {},
   "source": [
    "## Question 1\n",
    "The following table indicates the number of 6-point scores in an American rugby match in the 1979 season.\n",
    "\n",
    "![](table1.png)\n",
    "\n",
    "Based on these results, we create a Poisson distribution with the sample mean parameter  = 2.435. Is there any reason to believe that at a .05 level the number of scores is a Poisson variable?"
   ]
  },
  {
   "cell_type": "code",
   "execution_count": 2,
   "metadata": {},
   "outputs": [],
   "source": [
    "# your answer here\n",
    "import pandas as pd\n",
    "import numpy as np\n",
    "import matplotlib.pyplot as plt\n",
    "import seaborn as sns\n",
    "from scipy import stats"
   ]
  },
  {
   "cell_type": "code",
   "execution_count": 31,
   "metadata": {},
   "outputs": [
    {
     "data": {
      "text/plain": [
       "array([ 39.24379068,  95.5586303 , 116.34263239,  94.43143662,\n",
       "        57.48513704,  27.99526174,  11.36141039,   3.95214776])"
      ]
     },
     "execution_count": 31,
     "metadata": {},
     "output_type": "execute_result"
    }
   ],
   "source": [
    "# H0: poisson distributed\n",
    "# H1: not poisson distributed\n",
    "# to 95% confidence - alpha = 0.05\n",
    "\n",
    "freq = [35, 99, 104, 110, 62, 25, 10, 3]\n",
    "n = sum(freq)\n",
    "bins = 8\n",
    "mean = 2.435\n",
    "k = n-1\n",
    "array = [0,1,2,3,4,5,6,7]\n",
    "\n",
    "\n",
    "#expected results with possion distribution\n",
    "expected_results = stats.poisson.rvs(mean,n)\n",
    "\n",
    "\n",
    "prob = stats.poisson.pmf(array, mean) # Probability mass function - expected probability for each score\n",
    "prob\n",
    "\n",
    "# calculate number the expected frequency \n",
    "expected = prob * n\n",
    "expected"
   ]
  },
  {
   "cell_type": "code",
   "execution_count": 30,
   "metadata": {},
   "outputs": [
    {
     "data": {
      "text/plain": [
       "Power_divergenceResult(statistic=5.526588649191276, pvalue=0.5959787428784398)"
      ]
     },
     "execution_count": 30,
     "metadata": {},
     "output_type": "execute_result"
    }
   ],
   "source": [
    "# test for H, H1 (2 sample distribution)\n",
    "stats.chisquare(freq, expected)\n",
    "\n",
    "# is p<<a H0 can be rejected, else H0 cannot be rejected - implying poissson distribution is being followed"
   ]
  },
  {
   "cell_type": "markdown",
   "metadata": {},
   "source": [
    "## Question 2\n",
    "The following are the ordered values of a random sample of SAT scores (university entrance exam) for several students: 852, 875, 910, 933, 957, 963, 981, 998, 1010, 1015, 1018, 1023, 1035, 1048, 1063. In previous years, the scores were presented by N (985,50). Based on the sample, is there any reason to believe that there has been a change in the distribution of scores this year? Use the level alpha = 0.05. "
   ]
  },
  {
   "cell_type": "code",
   "execution_count": 8,
   "metadata": {},
   "outputs": [],
   "source": [
    "#your answer here\n",
    "# H0: equally distributed\n",
    "# H1: not equally distributed\n",
    "# confidence level 95%\n",
    "# usign ki squared distributions for comparing \n",
    "\n",
    "scores = [852, 875, 910, 933, 957, 963, 981, 998, 1010, 1015, 1018, 1023, 1035, 1048, 1063]"
   ]
  },
  {
   "cell_type": "code",
   "execution_count": 9,
   "metadata": {},
   "outputs": [],
   "source": [
    "# we need to define the sampel of the previosu year - normally distributed, mean = 985, std = 50\n",
    "previous_year = np.random.normal(985, 50, 1000)"
   ]
  },
  {
   "cell_type": "code",
   "execution_count": 10,
   "metadata": {
    "scrolled": true
   },
   "outputs": [
    {
     "data": {
      "text/plain": [
       "Ks_2sampResult(statistic=0.17066666666666666, pvalue=0.7213750895998767)"
      ]
     },
     "execution_count": 10,
     "metadata": {},
     "output_type": "execute_result"
    }
   ],
   "source": [
    "stats.ks_2samp(scores, previous_year)\n",
    "# p << a NOT TRUE, therefore we CANNOT jeject H0 - scores are equally distributed"
   ]
  },
  {
   "cell_type": "markdown",
   "metadata": {},
   "source": [
    "## Question 3\n",
    "Let's analyze a discrete distribution. To analyze the number of defective items in a factory in the city of Medellín, we took a random sample of n = 60 articles and observed the number of defectives in the following table:\n",
    "\n",
    "![](table4.png)\n",
    "\n",
    "A poissón distribution was proposed since it is defined for x = 0,1,2,3, .... using the following model:\n",
    "\n",
    "![](image1.png)\n",
    "\n",
    "Does the distribution of defective items follow this distribution?"
   ]
  },
  {
   "cell_type": "code",
   "execution_count": 62,
   "metadata": {},
   "outputs": [
    {
     "data": {
      "text/plain": [
       "Power_divergenceResult(statistic=35542048.1307453, pvalue=0.0)"
      ]
     },
     "execution_count": 62,
     "metadata": {},
     "output_type": "execute_result"
    }
   ],
   "source": [
    "# H0: poisson distributed\n",
    "# H1: not poisson distributed\n",
    "# to 95% confidence - alpha = 0.05\n",
    "\n",
    "freq = np.array([32, 15, 9,4])\n",
    "n = sum(freq)\n",
    "s_mean = np.mean(freq)\n",
    "s_mean\n",
    "k = n-1\n",
    "array = np.array([0,1,3,4])\n",
    "\n",
    "total_events = freq*array\n",
    "total_events\n",
    "n = sum(total_events)\n",
    "\n",
    "t_mean = np.mean(total_events)\n",
    "\n",
    "#expected results with possion distribution\n",
    "prob = stats.poisson.pmf(array, t_mean) # Probability mass function - expected probability for each score\n",
    "prob\n",
    "\n",
    "\n",
    "# calculate number the expected frequency \n",
    "expected = prob * n\n",
    "expected\n",
    "\n",
    "\n",
    "# test for H, H1 (2 sample distribution)\n",
    "stats.chisquare(freq, expected)\n",
    "\n",
    "# is p<<a H0 can be rejected, else H0 cannot be rejected - implying poissson distribution is being followed\n"
   ]
  },
  {
   "cell_type": "markdown",
   "metadata": {},
   "source": [
    "## Question 4\n",
    "A quality control engineer takes a simple of 10 tires that come out of an assembly line, and would like to verify on the basis of the data that follows, if the number of tires with defects observed over 200 days, if it is true that 5% of all tires have defects (that is, if the sample comes from a binomial population with n = 10 and p = 0.05). "
   ]
  },
  {
   "cell_type": "code",
   "execution_count": 10,
   "metadata": {},
   "outputs": [
    {
     "data": {
      "text/plain": [
       "array([0, 0, 0, 4, 2, 0, 0, 1, 3, 0])"
      ]
     },
     "execution_count": 10,
     "metadata": {},
     "output_type": "execute_result"
    }
   ],
   "source": [
    "# missing sample, can only do the binominal estimation\n",
    "# your answer here\n",
    "n = 10\n",
    "p = 0.05\n",
    "tries = 10\n",
    "days = 200\n",
    "\n",
    "np.random.binomial(n,p,tries)\n"
   ]
  },
  {
   "cell_type": "markdown",
   "metadata": {},
   "source": [
    "## Question 5\n",
    "A researcher gathers information about the patterns of physical activity (AF) of children in the fifth grade of primary school of a public school. He defines three categories of physical activity (1 = Low, 2 = Medium, 3 = High). He also inquires about the regular consumption of sugary drinks at school, and defines two categories (1 = consumed, 0 = not consumed). We would like to evaluate if there is an association between patterns of physical activity and the consumption of sugary drinks for the children of this school, at a level of 5% significance. The results are in the following table: \n",
    "\n",
    "![](table5.png)"
   ]
  },
  {
   "cell_type": "code",
   "execution_count": null,
   "metadata": {},
   "outputs": [],
   "source": [
    "#your answer here\n",
    "# H0: no association btw patterns \n",
    "# H1: association\n"
   ]
  }
 ],
 "metadata": {
  "kernelspec": {
   "display_name": "Python 3",
   "language": "python",
   "name": "python3"
  },
  "language_info": {
   "codemirror_mode": {
    "name": "ipython",
    "version": 3
   },
   "file_extension": ".py",
   "mimetype": "text/x-python",
   "name": "python",
   "nbconvert_exporter": "python",
   "pygments_lexer": "ipython3",
   "version": "3.7.3"
  }
 },
 "nbformat": 4,
 "nbformat_minor": 2
}
